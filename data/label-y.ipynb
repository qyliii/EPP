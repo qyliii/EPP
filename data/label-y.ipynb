{
 "cells": [
  {
   "cell_type": "code",
   "execution_count": 1,
   "id": "0e2b2407-bf71-4567-b788-210794968bbe",
   "metadata": {},
   "outputs": [],
   "source": [
    "import pandas as pd\n",
    "import numpy as np\n",
    "import torch"
   ]
  },
  {
   "cell_type": "code",
   "execution_count": 2,
   "id": "5b1bf0f9-326f-4805-8e16-107b46a70d3a",
   "metadata": {},
   "outputs": [],
   "source": [
    "# load data\n",
    "sitedata_path = \"./data/label.csv\"\n",
    "sitedata = pd.read_csv(sitedata_path,sep=',')"
   ]
  },
  {
   "cell_type": "code",
   "execution_count": 5,
   "id": "c3a4ea3f-f887-47f8-9ced-a51007d3a466",
   "metadata": {},
   "outputs": [],
   "source": [
    "aglen = sitedata.iloc[:,1]\n",
    "ablen = sitedata.iloc[:,2]\n",
    "\n",
    "label = []\n",
    "for i in range(0,len(aglen)):\n",
    "    interaction_matrix = np.zeros((aglen[i],ablen[i]))\n",
    "    # load site data\n",
    "    interaction_sites = sitedata.iloc[:,3][i]\n",
    "    interaction_sites = eval(interaction_sites) \n",
    "    \n",
    "\n",
    "    # set interaction site = 1\n",
    "    for site in interaction_sites:\n",
    "        interaction_matrix[site[0]-1, site[1]-1] = 1\n",
    "     \n",
    "    label.append(interaction_matrix)  "
   ]
  },
  {
   "cell_type": "code",
   "execution_count": 8,
   "id": "61729a21-6eaf-4d3f-afd1-4985910c40e2",
   "metadata": {},
   "outputs": [
    {
     "name": "stdout",
     "output_type": "stream",
     "text": [
      "max_rows:  498\n",
      "max_cols:  263\n",
      "torch.Size([4056, 498, 263])\n",
      "successfully save the representation data!\n"
     ]
    }
   ],
   "source": [
    "from torch.nn.utils.rnn import pad_sequence\n",
    "\n",
    "train_data_y = data\n",
    "label_y = list(train_data_y.values())\n",
    "label_y_tensor = [torch.tensor(matrix) for matrix in label_y]\n",
    "\n",
    "max_rows = max(matrix.shape[0] for matrix in label_y_tensor)\n",
    "max_cols = max(matrix.shape[1] for matrix in label_y_tensor)\n",
    "print('max_rows: ', max_rows)\n",
    "print('max_cols: ', max_cols)\n",
    "padded_label_y_tensor = [torch.nn.functional.pad(matrix, (0, max_cols - matrix.shape[1])) for matrix in label_y_tensor]\n",
    "padded_label_y_tensor = pad_sequence(padded_label_y_tensor, batch_first=True, padding_value=0)\n",
    "\n",
    "print(padded_label_y_tensor.shape)\n",
    "\n",
    "# save label tensor file\n",
    "torch.save(padded_label_y_tensor, './data/label_y.pt')\n",
    "print('successfully save the representation data!')"
   ]
  }
 ],
 "metadata": {
  "kernelspec": {
   "display_name": "Python 3 (ipykernel)",
   "language": "python",
   "name": "python3"
  },
  "language_info": {
   "codemirror_mode": {
    "name": "ipython",
    "version": 3
   },
   "file_extension": ".py",
   "mimetype": "text/x-python",
   "name": "python",
   "nbconvert_exporter": "python",
   "pygments_lexer": "ipython3",
   "version": "3.9.18"
  }
 },
 "nbformat": 4,
 "nbformat_minor": 5
}
